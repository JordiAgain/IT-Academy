{
 "cells": [
  {
   "attachments": {},
   "cell_type": "markdown",
   "metadata": {},
   "source": [
    "# Exercici 2\n",
    "Fes les tasques de preprocessat i adequació del Dataset que disposem en el repositori de GitHub PRE-PROCESSING-DATA amb l'objectiu de preparar-lo i treballar-lo com a dataframe per a extreure'n informació.\n",
    "\n",
    "Important:\n",
    "\n",
    "El resultat final ha de ser un dataframe amb les variables de nom de la pel·lícula, any i genere. També és important quedar-se amb un sol gènere per a cada pel·lícula!"
   ]
  },
  {
   "cell_type": "code",
   "execution_count": 1,
   "metadata": {},
   "outputs": [
    {
     "data": {
      "text/html": [
       "<div>\n",
       "<style scoped>\n",
       "    .dataframe tbody tr th:only-of-type {\n",
       "        vertical-align: middle;\n",
       "    }\n",
       "\n",
       "    .dataframe tbody tr th {\n",
       "        vertical-align: top;\n",
       "    }\n",
       "\n",
       "    .dataframe thead th {\n",
       "        text-align: right;\n",
       "    }\n",
       "</style>\n",
       "<table border=\"1\" class=\"dataframe\">\n",
       "  <thead>\n",
       "    <tr style=\"text-align: right;\">\n",
       "      <th></th>\n",
       "      <th>Títol</th>\n",
       "      <th>Any</th>\n",
       "      <th>Gènere</th>\n",
       "    </tr>\n",
       "  </thead>\n",
       "  <tbody>\n",
       "    <tr>\n",
       "      <th>1</th>\n",
       "      <td>Toy Story</td>\n",
       "      <td>1995</td>\n",
       "      <td>Animation</td>\n",
       "    </tr>\n",
       "    <tr>\n",
       "      <th>2</th>\n",
       "      <td>Jumanji</td>\n",
       "      <td>1995</td>\n",
       "      <td>Adventure</td>\n",
       "    </tr>\n",
       "    <tr>\n",
       "      <th>3</th>\n",
       "      <td>Grumpier Old Men</td>\n",
       "      <td>1995</td>\n",
       "      <td>Comedy</td>\n",
       "    </tr>\n",
       "    <tr>\n",
       "      <th>4</th>\n",
       "      <td>Waiting to Exhale</td>\n",
       "      <td>1995</td>\n",
       "      <td>Comedy</td>\n",
       "    </tr>\n",
       "    <tr>\n",
       "      <th>5</th>\n",
       "      <td>Father of the Bride Part II</td>\n",
       "      <td>1995</td>\n",
       "      <td>Comedy</td>\n",
       "    </tr>\n",
       "    <tr>\n",
       "      <th>...</th>\n",
       "      <td>...</td>\n",
       "      <td>...</td>\n",
       "      <td>...</td>\n",
       "    </tr>\n",
       "    <tr>\n",
       "      <th>3879</th>\n",
       "      <td>Meet the Parents</td>\n",
       "      <td>2000</td>\n",
       "      <td>Comedy</td>\n",
       "    </tr>\n",
       "    <tr>\n",
       "      <th>3880</th>\n",
       "      <td>Requiem for a Dream</td>\n",
       "      <td>2000</td>\n",
       "      <td>Drama</td>\n",
       "    </tr>\n",
       "    <tr>\n",
       "      <th>3881</th>\n",
       "      <td>Tigerland</td>\n",
       "      <td>2000</td>\n",
       "      <td>Drama</td>\n",
       "    </tr>\n",
       "    <tr>\n",
       "      <th>3882</th>\n",
       "      <td>Two Family House</td>\n",
       "      <td>2000</td>\n",
       "      <td>Drama</td>\n",
       "    </tr>\n",
       "    <tr>\n",
       "      <th>3883</th>\n",
       "      <td>Contender, The</td>\n",
       "      <td>2000</td>\n",
       "      <td>Drama</td>\n",
       "    </tr>\n",
       "  </tbody>\n",
       "</table>\n",
       "<p>3883 rows × 3 columns</p>\n",
       "</div>"
      ],
      "text/plain": [
       "                            Títol   Any     Gènere\n",
       "1                       Toy Story  1995  Animation\n",
       "2                         Jumanji  1995  Adventure\n",
       "3                Grumpier Old Men  1995     Comedy\n",
       "4               Waiting to Exhale  1995     Comedy\n",
       "5     Father of the Bride Part II  1995     Comedy\n",
       "...                           ...   ...        ...\n",
       "3879             Meet the Parents  2000     Comedy\n",
       "3880          Requiem for a Dream  2000      Drama\n",
       "3881                    Tigerland  2000      Drama\n",
       "3882             Two Family House  2000      Drama\n",
       "3883               Contender, The  2000      Drama\n",
       "\n",
       "[3883 rows x 3 columns]"
      ]
     },
     "execution_count": 1,
     "metadata": {},
     "output_type": "execute_result"
    }
   ],
   "source": [
    "import pandas as pd\n",
    "import matplotlib.pyplot as plt\n",
    "import numpy as np\n",
    "import seaborn as sns\n",
    "import warnings\n",
    "warnings.filterwarnings('ignore')\n",
    "\n",
    "#Carreguem l'arxiu per fer el nostre dataframe.\n",
    "ds_pelis = pd.read_csv('/Users/jordi/Documents/IT Academy/Data Science/Sprint 4/M4T02-2/movies.dat.txt', sep='::', encoding=\"ISO-8859-1\", header=None, engine='python')\n",
    "\n",
    "#Extracció de títol i any.\n",
    "ds_pelis[['Títol', 'Any']] = ds_pelis[1].str.extract(r'(.*?)\\s\\((\\d+)\\)')\n",
    "\n",
    "#Extracció del primer gènere per pel·lícula\n",
    "ds_pelis['Gènere'] = ds_pelis[2].str.split('|').str[0]\n",
    "\n",
    "#Creem dataframe amb les variables requerides i eliminem l'ID per estar duplicat amb l'índex.\n",
    "df_pelis = ds_pelis[[0, 'Títol', 'Any', 'Gènere']].drop(columns={0: 'ID'})\n",
    "df_pelis.index += 1 #per arreglar l'índex i no començar amb 0.\n",
    "\n",
    "df_pelis"
   ]
  },
  {
   "cell_type": "code",
   "execution_count": 2,
   "metadata": {},
   "outputs": [
    {
     "name": "stdout",
     "output_type": "stream",
     "text": [
      "<class 'pandas.core.frame.DataFrame'>\n",
      "RangeIndex: 3883 entries, 1 to 3883\n",
      "Data columns (total 3 columns):\n",
      " #   Column  Non-Null Count  Dtype \n",
      "---  ------  --------------  ----- \n",
      " 0   Títol   3882 non-null   object\n",
      " 1   Any     3882 non-null   object\n",
      " 2   Gènere  3883 non-null   object\n",
      "dtypes: object(3)\n",
      "memory usage: 91.1+ KB\n"
     ]
    }
   ],
   "source": [
    "df_pelis.info()\n",
    "#Comprovem que cada columna té el format adequat."
   ]
  },
  {
   "attachments": {},
   "cell_type": "markdown",
   "metadata": {},
   "source": [
    "Veiem que any està com a object, el passem a numèric."
   ]
  },
  {
   "cell_type": "code",
   "execution_count": 3,
   "metadata": {},
   "outputs": [
    {
     "name": "stdout",
     "output_type": "stream",
     "text": [
      "<class 'pandas.core.frame.DataFrame'>\n",
      "RangeIndex: 3883 entries, 1 to 3883\n",
      "Data columns (total 3 columns):\n",
      " #   Column  Non-Null Count  Dtype  \n",
      "---  ------  --------------  -----  \n",
      " 0   Títol   3882 non-null   object \n",
      " 1   Any     3882 non-null   float64\n",
      " 2   Gènere  3883 non-null   object \n",
      "dtypes: float64(1), object(2)\n",
      "memory usage: 91.1+ KB\n"
     ]
    }
   ],
   "source": [
    "df_pelis[\"Any\"] = pd.to_numeric(df_pelis[\"Any\"], errors=\"coerce\")\n",
    "df_pelis.info()\n",
    "#Comprovem que ara estigui tot correcte."
   ]
  },
  {
   "attachments": {},
   "cell_type": "markdown",
   "metadata": {},
   "source": [
    "# Exercici 3\n",
    "\n",
    "Mostra la teva creativitat. Què creus rellevant mostrar del Dataset \"movies.dat\" de l'exercici anterior?\n",
    "\n",
    "Fes una o dues representacions gràfiques i justifica la teva elecció."
   ]
  },
  {
   "cell_type": "code",
   "execution_count": 4,
   "metadata": {},
   "outputs": [
    {
     "data": {
      "text/plain": [
       "Drama          1176\n",
       "Comedy         1024\n",
       "Action          503\n",
       "Horror          262\n",
       "Adventure       155\n",
       "Crime           131\n",
       "Documentary     123\n",
       "Thriller        101\n",
       "Animation        90\n",
       "Children's       89\n",
       "Romance          50\n",
       "Sci-Fi           46\n",
       "Mystery          36\n",
       "Western          33\n",
       "Film-Noir        25\n",
       "Musical          25\n",
       "War              12\n",
       "Fantasy           2\n",
       "Name: Gènere, dtype: int64"
      ]
     },
     "execution_count": 4,
     "metadata": {},
     "output_type": "execute_result"
    }
   ],
   "source": [
    "df_genere = df_pelis.Gènere.value_counts()\n",
    "df_genere"
   ]
  },
  {
   "cell_type": "code",
   "execution_count": 8,
   "metadata": {},
   "outputs": [
    {
     "data": {
      "text/plain": [
       "Text(0, 0.5, 'Nombre de pel·lícules')"
      ]
     },
     "execution_count": 8,
     "metadata": {},
     "output_type": "execute_result"
    },
    {
     "data": {
      "image/png": "[encoded data removed]",
      "text/plain": [
       "<Figure size 640x480 with 1 Axes>"
      ]
     },
     "metadata": {},
     "output_type": "display_data"
    }
   ],
   "source": [
    "df_genere.plot.bar()\n",
    "sns.set_style('white')\n",
    "plt.title('Nombre de pel·lícules per gènere')\n",
    "plt.xlabel('Gènere')\n",
    "plt.ylabel('Nombre de pel·lícules')"
   ]
  },
  {
   "attachments": {},
   "cell_type": "markdown",
   "metadata": {},
   "source": [
    "He fet un gràfic de barres per fer una visualització senzilla del total de pel·lícules corresponents per gènere. Podem veure que les més comunes son: Drama, Comèdia, Acció i Por. Mentre que les menys comunes son: Cinema Negre, Musicals, Bèl·liques i de Fantasia."
   ]
  },
  {
   "cell_type": "code",
   "execution_count": 6,
   "metadata": {},
   "outputs": [
    {
     "data": {
      "text/plain": [
       "1996.0    345\n",
       "1995.0    342\n",
       "1998.0    337\n",
       "1997.0    315\n",
       "1999.0    283\n",
       "         ... \n",
       "1923.0      3\n",
       "1919.0      3\n",
       "1922.0      2\n",
       "1920.0      2\n",
       "1921.0      1\n",
       "Name: Any, Length: 81, dtype: int64"
      ]
     },
     "execution_count": 6,
     "metadata": {},
     "output_type": "execute_result"
    }
   ],
   "source": [
    "df_anys = df_pelis.Any.value_counts()\n",
    "df_anys"
   ]
  },
  {
   "cell_type": "code",
   "execution_count": 7,
   "metadata": {},
   "outputs": [
    {
     "data": {
      "image/png": "[encoded data removed]",
      "text/plain": [
       "<Figure size 640x480 with 1 Axes>"
      ]
     },
     "metadata": {},
     "output_type": "display_data"
    }
   ],
   "source": [
    "plt.figure\n",
    "ax= sns.histplot(x='Any', data= df_pelis)\n",
    "ax.set_title('Distribució de pel·lícules durant els anys', fontsize=10)\n",
    "ax.set_xlabel('Anys',fontsize=10)\n",
    "ax.set_ylabel('Nombre de pel·lícules', fontsize=10)\n",
    "ax.tick_params(labelsize=7)\n",
    "plt.show()"
   ]
  },
  {
   "attachments": {},
   "cell_type": "markdown",
   "metadata": {},
   "source": [
    "Una altra visualització interessant seria la proposada aquí dalt: Veure el nombre de pel·lícules produïdes i distrubuïdes al llarg dels anys. Podem apreciar un augment notable a la dècada dels 80, esclatant a la segona meitat dels 90 (on trobem la moda). No tenim dades més enllà del 2000 així que no podem comprovar si la baixada del 2000 es significativa a la següent dècada o no."
   ]
  }
 ],
 "metadata": {
  "kernelspec": {
   "display_name": "Python 3",
   "language": "python",
   "name": "python3"
  },
  "language_info": {
   "codemirror_mode": {
    "name": "ipython",
    "version": 3
   },
   "file_extension": ".py",
   "mimetype": "text/x-python",
   "name": "python",
   "nbconvert_exporter": "python",
   "pygments_lexer": "ipython3",
   "version": "3.11.1"
  },
  "orig_nbformat": 4,
  "vscode": {
   "interpreter": {
    "hash": "aee8b7b246df8f9039afb4144a1f6fd8d2ca17a180786b69acc140d282b71a49"
   }
  }
 },
 "nbformat": 4,
 "nbformat_minor": 2
}
