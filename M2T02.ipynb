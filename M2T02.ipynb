{
 "cells": [
  {
   "attachments": {},
   "cell_type": "markdown",
   "metadata": {},
   "source": [
    "# M2 T02"
   ]
  },
  {
   "attachments": {},
   "cell_type": "markdown",
   "metadata": {},
   "source": [
    "# Exercici 1\n",
    "\n",
    "L'exercici consisteix a crear un programa que et classifiqui una variable numèrica en funció de l’escala Suspès/Aprovat/Notable/Excel·lent.\n",
    "\n",
    "Recorda que Suspès < 5, Aprovat > 5 i < 7, Notable > 7 i < 9 i Excel·lent > 9."
   ]
  },
  {
   "cell_type": "code",
   "execution_count": 22,
   "metadata": {},
   "outputs": [
    {
     "name": "stdout",
     "output_type": "stream",
     "text": [
      "Tens un: Suspens\n",
      "Tens un: Aprovat\n",
      "Tens un: Notable\n",
      "Tens un: Excel·lent\n",
      "No existeix una nota vàlida del 0 al 10.\n"
     ]
    }
   ],
   "source": [
    "def notes (nota):\n",
    "    if (nota < 5):\n",
    "        return \"Suspens\"\n",
    "    elif (nota >= 5 and nota < 7):\n",
    "        return \"Aprovat\"\n",
    "    elif (nota >= 7 and nota <= 9):\n",
    "        return \"Notable\"\n",
    "    elif (nota > 9 and nota <= 10):\n",
    "        return \"Excel·lent\"\n",
    "    else:\n",
    "        return \"No existeix una nota vàlida del 0 al 10.\"\n",
    "\n",
    "print(f'Tens un: {notes(4)}')\n",
    "print(f'Tens un: {notes(5.5)}')\n",
    "print(f'Tens un: {notes(7.7)}')\n",
    "print(f'Tens un: {notes(9.2)}')\n",
    "print(f'{notes(14)}')"
   ]
  },
  {
   "attachments": {},
   "cell_type": "markdown",
   "metadata": {},
   "source": [
    "He creat una funció pròpia per definir les variables de les notes amb els condicionals \"if\", \"elif\" i \"else\" aplicant aquest últim en el cas d'introduïr una nota que no sigui entre el 0 i el 10."
   ]
  },
  {
   "attachments": {},
   "cell_type": "markdown",
   "metadata": {},
   "source": []
  },
  {
   "attachments": {},
   "cell_type": "markdown",
   "metadata": {},
   "source": [
    "# Exercici 2\n",
    "\n",
    "Crea un programa que et pregunti dos números. T’ha de mostrar un missatge dient si el primer és més gran, el segon és més gran o són iguals."
   ]
  },
  {
   "cell_type": "code",
   "execution_count": 23,
   "metadata": {},
   "outputs": [
    {
     "name": "stdout",
     "output_type": "stream",
     "text": [
      "Els dos números són iguals.\n"
     ]
    }
   ],
   "source": [
    "num1 = input(\"Insereix el primer número: \")\n",
    "num2 = input(\"Insereix el segon número: \")\n",
    "\n",
    "num1 = int(num1)\n",
    "num2 = int(num2)\n",
    "\n",
    "if num1 > num2:\n",
    "  print(\"El primer número és més gran.\")\n",
    "elif num1 < num2:\n",
    "  print(\"El segon número és més gran.\")\n",
    "else:\n",
    "  print(\"Els dos números són iguals.\")"
   ]
  },
  {
   "attachments": {},
   "cell_type": "markdown",
   "metadata": {},
   "source": [
    "Demanem al usuari que introdueixi les variables, les convertim a integer, comparem opcions amb els condicionals \"if\", \"elif\" i \"else\" i fem el print segons les opcions introduïdes. He introduït dos cops el número 2 i el print ens mostra l'opció de l'else."
   ]
  },
  {
   "attachments": {},
   "cell_type": "markdown",
   "metadata": {},
   "source": [
    "# Exercici 3\n",
    "\n",
    "Crea un programa que et pregunti el teu nom, i et demani un número. Si el número és 0, hauria de mostrar un missatge d’error. En cas contrari, hauria de mostrar el nom repetit tants cops com indiqui el número. Per exemple, “Joan Joan Joan”.\n",
    "\n"
   ]
  },
  {
   "cell_type": "code",
   "execution_count": 11,
   "metadata": {},
   "outputs": [
    {
     "name": "stdout",
     "output_type": "stream",
     "text": [
      "Jordi\n",
      "Jordi\n",
      "Jordi\n",
      "Jordi\n",
      "Jordi\n",
      "Jordi\n",
      "Jordi\n"
     ]
    }
   ],
   "source": [
    "name = input(\"Insereix el teu nom: \")\n",
    "num = input(\"Insereix un número: \")\n",
    "\n",
    "num = int(num)\n",
    "\n",
    "# Comprova si el número és 0\n",
    "if num == 0:\n",
    "  print(\"Error: no es pot repetir el nom 0 vegades\")\n",
    "else:\n",
    "  # Mostra el nom repetit tants cops com indiqui el número\n",
    "  for i in range(num):\n",
    "    print(name)\n"
   ]
  },
  {
   "attachments": {},
   "cell_type": "markdown",
   "metadata": {},
   "source": [
    "En aquest exercici hem fet un input per poder inserir el nom i un altre pel número. Convertim l'string de l'input número a integer. Si el número fos 0 ens hauria de donar error pel qual fem server un condicional. Per últim, un cop l'usuari hagi introduït el seu nom i el número, fem un bucle for per repetir al print la quantitat de vegades que l'usuari ens hagi demanat el seu nom.\n",
    "\n",
    "A l'exemple imprès he ficat el meu nom i el número 7."
   ]
  },
  {
   "attachments": {},
   "cell_type": "markdown",
   "metadata": {},
   "source": [
    "# Exercici 4\n",
    "\n",
    "Crea un programa que donada una llista qualsevol, et digui si és simètrica o no. Si ho és, que et digui quants elements té."
   ]
  },
  {
   "cell_type": "code",
   "execution_count": 28,
   "metadata": {},
   "outputs": [
    {
     "name": "stdout",
     "output_type": "stream",
     "text": [
      "La llista és simètrica i te 10 elements.\n",
      "La llista no és simètrica i en te 8 elements.\n"
     ]
    }
   ],
   "source": [
    "llista_1 = [1,2,3,4,5,5,4,3,2,1]\n",
    "llista_2 = [7,3,5,6,4,2,1,8]\n",
    "\n",
    "def simetria(llista_1):\n",
    "    if llista_1 == list(reversed(llista_1)):\n",
    "        print(f'La llista és simètrica i te {len(llista_1)} elements.')\n",
    "    else:\n",
    "        print(f'La llista no és simètrica i en te {len(llista_1)} elements.')\n",
    "\n",
    "simetria(llista_1)\n",
    "simetria(llista_2)\n",
    " "
   ]
  },
  {
   "attachments": {},
   "cell_type": "markdown",
   "metadata": {},
   "source": [
    "He creat dues llistes, una simètrica i una altra que no ho és. A continuació he creat una funció pròpia que comprova amb els condicionals si és simètrica o no, aplicant la funció reversed. Per comptar els elements he fet servir \"len\" un cop la crido."
   ]
  },
  {
   "attachments": {},
   "cell_type": "markdown",
   "metadata": {},
   "source": [
    "# Exercici 5\n",
    "\n",
    "Crea un programa que donada una llista, et digui quants números coincideixen amb la seva posició. Per exemple [3,4,2,0,2,3,6] el 2 i el 6 coincideixen."
   ]
  },
  {
   "cell_type": "code",
   "execution_count": 13,
   "metadata": {},
   "outputs": [
    {
     "name": "stdout",
     "output_type": "stream",
     "text": [
      "2 números coincideixen amb l'ordre de la llista.\n"
     ]
    }
   ],
   "source": [
    "llista = [0,4,3,5,2,5,7,9,10,30]\n",
    "\n",
    "comptador = 0\n",
    "for i in range(len(llista)):\n",
    "    if i == llista[i]:\n",
    "        comptador += 1\n",
    "\n",
    "print(f\"{comptador} números coincideixen amb l'ordre de la llista.\")\n"
   ]
  },
  {
   "attachments": {},
   "cell_type": "markdown",
   "metadata": {},
   "source": [
    "He fet dos propostes per resoldre l'exercici: En aquest cas tenim un bucle for que recorre la llista i comprova l'ordre dels números que hi coincideixen al llarg de la llista amb l'índex. Un cop recorregut el bucle fem el print amb un f-string que importa el nombre total de coincidències i les mostrem a pantalla."
   ]
  },
  {
   "cell_type": "code",
   "execution_count": 14,
   "metadata": {},
   "outputs": [
    {
     "name": "stdout",
     "output_type": "stream",
     "text": [
      "Els següents números coincideixen amb l'ordre: [0, 3, 7]\n"
     ]
    }
   ],
   "source": [
    "llista = [0,8,4,3,5,2,5,7,9,10,30]\n",
    "def coincidencia(llista):\n",
    "    numCoin = []\n",
    "    for i, numero in enumerate(llista):\n",
    "        if i == numero:\n",
    "            numCoin.append(numero)\n",
    "    return numCoin\n",
    "\n",
    "resultat = coincidencia(llista)\n",
    "if resultat:\n",
    "    print(f\"Els següents números coincideixen amb l'ordre: {resultat}\")\n",
    "else:\n",
    "    print(\"No hi ha cap número que hi coincideixin amb l'ordre.\")\n"
   ]
  },
  {
   "attachments": {},
   "cell_type": "markdown",
   "metadata": {},
   "source": [
    "Aquí la proposta és una mica més elaborada i precisa, ja que ens diu els números que coincideixen amb l'ordre de la llista, així com també he creat un condicional per si fos possible que cap coincidís amb l'ordre, tenir l'opció de mostrar-ho a pantalla.\n",
    "\n",
    "Primer he creat una funció pròpia que és \"coincidencia\" per definir les coinicidències amb l'ordre de la llista. He creat una llista buida que s'anirà omplint amb la funció \".append\" cada cop que amb el bucle for i la funció \"enumerate\" trobin una coincidència, la qual ens tornarà amb un return.\n",
    "Llavors, he creat la variable \"resultat\" amb la que crido la meva funció \"coincidència\" i per últim he fet els dos prints possibles per abarcar la totalitat de les opcions."
   ]
  }
 ],
 "metadata": {
  "kernelspec": {
   "display_name": "Python 3",
   "language": "python",
   "name": "python3"
  },
  "language_info": {
   "codemirror_mode": {
    "name": "ipython",
    "version": 3
   },
   "file_extension": ".py",
   "mimetype": "text/x-python",
   "name": "python",
   "nbconvert_exporter": "python",
   "pygments_lexer": "ipython3",
   "version": "3.10.5"
  },
  "orig_nbformat": 4,
  "vscode": {
   "interpreter": {
    "hash": "aee8b7b246df8f9039afb4144a1f6fd8d2ca17a180786b69acc140d282b71a49"
   }
  }
 },
 "nbformat": 4,
 "nbformat_minor": 2
}
