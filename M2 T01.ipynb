{
 "cells": [
  {
   "attachments": {},
   "cell_type": "markdown",
   "metadata": {},
   "source": [
    "# M2 T01"
   ]
  },
  {
   "attachments": {},
   "cell_type": "markdown",
   "metadata": {},
   "source": [
    "# Exercici 1:\n",
    "\n",
    "Crea una llista que agrupi els mesos de l’any en trimestres (1T: gener, febrer i març; 2T: abril, maig, juny...), és a dir, una llista amb 4 llistes dins."
   ]
  },
  {
   "cell_type": "code",
   "execution_count": 1,
   "metadata": {},
   "outputs": [],
   "source": [
    "llistaMesos=[[\"gener\", \"febrer\", \"març\"],[\"abril\", \"maig\", \"juny\"],[\"juliol\", \"agost\", \"setembre\"],[\"octubre\", \"novembre\", \"desembre\"]]"
   ]
  },
  {
   "attachments": {},
   "cell_type": "markdown",
   "metadata": {},
   "source": [
    "# Exercici 2\n",
    "\n",
    "Crea un codi que et permeti accedir a:\n",
    "\n",
    "- El segon mes del primer trimestre.\n",
    "- Els mesos del primer trimestre.\n",
    "- Setembre i octubre."
   ]
  },
  {
   "cell_type": "code",
   "execution_count": 2,
   "metadata": {},
   "outputs": [
    {
     "name": "stdout",
     "output_type": "stream",
     "text": [
      "febrer\n"
     ]
    }
   ],
   "source": [
    "print(llistaMesos[0][1])"
   ]
  },
  {
   "cell_type": "code",
   "execution_count": 3,
   "metadata": {},
   "outputs": [
    {
     "name": "stdout",
     "output_type": "stream",
     "text": [
      "['gener', 'febrer', 'març']\n"
     ]
    }
   ],
   "source": [
    "print (llistaMesos[0])"
   ]
  },
  {
   "cell_type": "code",
   "execution_count": 4,
   "metadata": {},
   "outputs": [
    {
     "name": "stdout",
     "output_type": "stream",
     "text": [
      "setembre i octubre\n",
      "setembre i octubre\n"
     ]
    }
   ],
   "source": [
    "print(f'{llistaMesos[2][2]} i {llistaMesos[3][0]}')\n",
    "\n",
    "#també es podria fer sense fer servir un f-string de la següent manera:\n",
    "print(llistaMesos[2][2],\"i\",llistaMesos[3][0])\n"
   ]
  },
  {
   "attachments": {},
   "cell_type": "markdown",
   "metadata": {},
   "source": [
    "# Exercici 3\n",
    "\n",
    "Crea una llista amb nombres desordenats i respon a les següents preguntes:\n",
    "\n",
    "- Quants números hi ha?\n",
    "- Quantes vegades apareix el número 3.\n",
    "- Quantes vegades apareixen els nombres 3 i 4?\n",
    "- Quin és el número més gran?\n",
    "- Quins són els 3 números més petits?\n",
    "- Quin és el rang d’aquesta llista?\n"
   ]
  },
  {
   "cell_type": "code",
   "execution_count": 5,
   "metadata": {},
   "outputs": [],
   "source": [
    "llistaNums=[7,2,32,1,3,5,6,8,9,22,29,30,14,44,77]"
   ]
  },
  {
   "cell_type": "code",
   "execution_count": 6,
   "metadata": {},
   "outputs": [
    {
     "name": "stdout",
     "output_type": "stream",
     "text": [
      "15\n"
     ]
    }
   ],
   "source": [
    "print(len(llistaNums))"
   ]
  },
  {
   "cell_type": "code",
   "execution_count": 7,
   "metadata": {},
   "outputs": [
    {
     "name": "stdout",
     "output_type": "stream",
     "text": [
      "1\n"
     ]
    }
   ],
   "source": [
    "print(llistaNums.count(3))"
   ]
  },
  {
   "cell_type": "code",
   "execution_count": 8,
   "metadata": {},
   "outputs": [
    {
     "name": "stdout",
     "output_type": "stream",
     "text": [
      "El número 3 apareix 1 vegades i el número 4 apareix 0 vegades. \n"
     ]
    }
   ],
   "source": [
    "print(f'El número 3 apareix {llistaNums.count(3)} vegades i el número 4 apareix {llistaNums.count(4)} vegades. ')"
   ]
  },
  {
   "cell_type": "code",
   "execution_count": 9,
   "metadata": {},
   "outputs": [
    {
     "name": "stdout",
     "output_type": "stream",
     "text": [
      "77\n"
     ]
    }
   ],
   "source": [
    "print(max(llistaNums))"
   ]
  },
  {
   "cell_type": "code",
   "execution_count": 10,
   "metadata": {},
   "outputs": [
    {
     "name": "stdout",
     "output_type": "stream",
     "text": [
      "[1, 2, 3]\n",
      "[1, 2, 3]\n"
     ]
    }
   ],
   "source": [
    "import heapq\n",
    "\n",
    "numsPetits = heapq.nsmallest(3, llistaNums)\n",
    "print(numsPetits)\n",
    "\n",
    "#també es podria fer posant ordre a la llista i llavors cridant als primers amb:\n",
    "\n",
    "llistaNums.sort()\n",
    "numsPetits2 = llistaNums [:3]\n",
    "print(numsPetits2)"
   ]
  },
  {
   "cell_type": "code",
   "execution_count": 11,
   "metadata": {},
   "outputs": [
    {
     "name": "stdout",
     "output_type": "stream",
     "text": [
      "El rang de la llista és 76.\n"
     ]
    }
   ],
   "source": [
    "print(f'El rang de la llista és {max(llistaNums) - min(llistaNums)}.')"
   ]
  },
  {
   "attachments": {},
   "cell_type": "markdown",
   "metadata": {},
   "source": [
    "# Exercici 4\n",
    "\n",
    "Crea un diccionari de la següent forma i respon a les preguntes:\n",
    "\n",
    "compra = { \"Pomes\" : {\"Qty\": 5, \"€\": 0.42}, \"Peres\" : {\"Qty\": 3, \"€\": 0.66} }"
   ]
  },
  {
   "attachments": {},
   "cell_type": "markdown",
   "metadata": {},
   "source": [
    "Afegeix alguna fruita més:"
   ]
  },
  {
   "cell_type": "code",
   "execution_count": 19,
   "metadata": {},
   "outputs": [
    {
     "name": "stdout",
     "output_type": "stream",
     "text": [
      "{'Pomes': {'Qty': 5, '€': 0.42}, 'Peres': {'Qty': 3, '€': 0.66}, 'Plàtan': {'Qty': 4, '€': 0.32}, 'Mandarines': {'Qty': 6, '€': 0.51}, 'Taronges': {'Qty': 2, '€': 0.75}}\n"
     ]
    }
   ],
   "source": [
    "compra = { \"Pomes\" : {\"Qty\": 5, \"€\": 0.42},\n",
    "\"Peres\" : {\"Qty\": 3, \"€\": 0.66}, \n",
    "\"Plàtan\" : {\"Qty\": 4, \"€\": 0.32},\n",
    "\"Mandarines\" : {\"Qty\": 6, \"€\": 0.51},\n",
    "\"Taronges\" : {\"Qty\": 2, \"€\": 0.75} }\n",
    "print(compra)"
   ]
  },
  {
   "attachments": {},
   "cell_type": "markdown",
   "metadata": {},
   "source": [
    "Quant han costat les peres en total?"
   ]
  },
  {
   "cell_type": "code",
   "execution_count": 30,
   "metadata": {},
   "outputs": [
    {
     "name": "stdout",
     "output_type": "stream",
     "text": [
      "Les peres en total van costar: 1.98€.\n"
     ]
    }
   ],
   "source": [
    "print(f'Les peres en total van costar: {compra[\"Peres\"][\"Qty\"] * compra [\"Peres\"][\"€\"]}€.')"
   ]
  },
  {
   "attachments": {},
   "cell_type": "markdown",
   "metadata": {},
   "source": [
    "Quantes fruites hem comprat en total?\n"
   ]
  },
  {
   "cell_type": "code",
   "execution_count": 33,
   "metadata": {},
   "outputs": [
    {
     "name": "stdout",
     "output_type": "stream",
     "text": [
      "Hem comprat 20 fruites en total.\n"
     ]
    }
   ],
   "source": [
    "totalFruites = sum([x[\"Qty\"] for x in compra.values()])\n",
    "print(f'Hem comprat {totalFruites} fruites en total.')"
   ]
  },
  {
   "attachments": {},
   "cell_type": "markdown",
   "metadata": {},
   "source": [
    "Quina és la fruita més cara?"
   ]
  },
  {
   "cell_type": "code",
   "execution_count": 34,
   "metadata": {},
   "outputs": [
    {
     "name": "stdout",
     "output_type": "stream",
     "text": [
      "La fruita més cara és: Taronges\n"
     ]
    }
   ],
   "source": [
    "fruitaCara = max(x[\"€\"]for x in compra.values())\n",
    "for key,value in compra.items():\n",
    "    if value[\"€\"] == fruitaCara:          \n",
    "        print(f'La fruita més cara és: {key}')"
   ]
  }
 ],
 "metadata": {
  "kernelspec": {
   "display_name": "Python 3",
   "language": "python",
   "name": "python3"
  },
  "language_info": {
   "codemirror_mode": {
    "name": "ipython",
    "version": 3
   },
   "file_extension": ".py",
   "mimetype": "text/x-python",
   "name": "python",
   "nbconvert_exporter": "python",
   "pygments_lexer": "ipython3",
   "version": "3.9.6"
  },
  "orig_nbformat": 4,
  "vscode": {
   "interpreter": {
    "hash": "31f2aee4e71d21fbe5cf8b01ff0e069b9275f58929596ceb00d14d90e3e16cd6"
   }
  }
 },
 "nbformat": 4,
 "nbformat_minor": 2
}
