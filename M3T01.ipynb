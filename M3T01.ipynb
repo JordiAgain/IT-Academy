{
 "cells": [
  {
   "attachments": {},
   "cell_type": "markdown",
   "metadata": {},
   "source": [
    "# M3 T01\n",
    "\n",
    "## Exercici 1\n",
    "Crea una funció que donat un Array d’una dimensió, et faci un resum estadístic bàsic de les dades. Si detecta que l’array té més d’una dimensió, ha de mostrar un missatge d’error."
   ]
  },
  {
   "cell_type": "code",
   "execution_count": 1,
   "metadata": {},
   "outputs": [
    {
     "name": "stdout",
     "output_type": "stream",
     "text": [
      "Mitjana: 5.5\n",
      "Mediana: 5.5\n",
      "Moda: 1\n",
      "Desviació típica: 2.8722813232690143\n",
      "Mínim: 1\n",
      "Màxim: 10\n",
      "Error: L'array no es unidimensional.\n"
     ]
    },
    {
     "name": "stderr",
     "output_type": "stream",
     "text": [
      "/var/folders/6l/dm5_1l7j37s1g84qm0gnrpth0000gn/T/ipykernel_24392/3586723268.py:11: FutureWarning: Unlike other reduction functions (e.g. `skew`, `kurtosis`), the default behavior of `mode` typically preserves the axis it acts along. In SciPy 1.11.0, this behavior will change: the default value of `keepdims` will become False, the `axis` over which the statistic is taken will be eliminated, and the value None will no longer be accepted. Set `keepdims` to True or False to avoid this warning.\n",
      "  print(\"Moda:\", stats.mode(arr)[0][0])\n"
     ]
    }
   ],
   "source": [
    "import numpy as np\n",
    "from scipy import stats\n",
    "\n",
    "def funcio(arr):\n",
    "    if len(arr.shape) != 1:\n",
    "        print(\"Error: L'array no es unidimensional.\")\n",
    "        return\n",
    "    else:\n",
    "        print(\"Mitjana:\", arr.mean())\n",
    "        print(\"Mediana:\", np.median(arr))\n",
    "        print(\"Moda:\", stats.mode(arr)[0][0])\n",
    "        print(\"Desviació típica:\", arr.std())\n",
    "        print(\"Mínim:\", arr.min())\n",
    "        print(\"Màxim:\", arr.max())\n",
    "\n",
    "\n",
    "array = np.array([1, 2, 3, 4, 5, 6, 7, 8, 9, 10])\n",
    "array_2D = np.array([[10,9,8,7,6],[5,4,3,2,1]])\n",
    "funcio(array)\n",
    "funcio(array_2D)"
   ]
  },
  {
   "attachments": {},
   "cell_type": "markdown",
   "metadata": {},
   "source": [
    "## Exercici 2\n",
    "\n",
    "Crea una funció que et generi un quadrat NxN de nombres aleatoris entre el 0 i el 100.\n",
    "\n"
   ]
  },
  {
   "cell_type": "code",
   "execution_count": 2,
   "metadata": {},
   "outputs": [
    {
     "name": "stdout",
     "output_type": "stream",
     "text": [
      "[[ 13  32  49  68  61  22  52]\n",
      " [ 43  64  97  77  47  36  56]\n",
      " [ 31  30  70  92  31  41  22]\n",
      " [  0  10   5  78  83  35  21]\n",
      " [ 39  82  82  28 100  12  14]\n",
      " [ 75  95  62  15  50  82  90]\n",
      " [ 84  89  33   8   7   0  83]]\n"
     ]
    }
   ],
   "source": [
    "def quadrat_aleatori(n):\n",
    "    return np.random.randint(0, 101, size=(n, n))\n",
    "\n",
    "quadrat = quadrat_aleatori(7) #fiquem el 7 per resoldre l'exercici, pero es tracta d'un número totalment aleatori. Qualsevol número ens serviria.\n",
    "print(quadrat)\n",
    "\n"
   ]
  },
  {
   "attachments": {},
   "cell_type": "markdown",
   "metadata": {},
   "source": [
    "## Exercici 3\n",
    "\n",
    "Crea una funció que donada una taula de dues dimensions (NxM), et calculi els totals per fila i els totals per columna."
   ]
  },
  {
   "cell_type": "code",
   "execution_count": 3,
   "metadata": {},
   "outputs": [
    {
     "name": "stdout",
     "output_type": "stream",
     "text": [
      "Array: original: \n",
      " [[3 6 1 7]\n",
      " [3 9 8 6]\n",
      " [2 9 4 6]]\n",
      "Files total: [17 26 21]\n",
      "Columnes totals: [ 8 24 13 19]\n"
     ]
    }
   ],
   "source": [
    "def fila_columnes_total(arr):\n",
    "    fila_totals = np.sum(arr, axis=1)\n",
    "    col_totals = np.sum(arr, axis=0)\n",
    "    print(\"Files total:\", fila_totals)\n",
    "    print(\"Columnes totals:\", col_totals)\n",
    "\n",
    "nums = np.random.randint(1, 10, size=(3, 4))\n",
    "print(\"Array: original: \\n\", nums)\n",
    "fila_columnes_total(nums)\n"
   ]
  },
  {
   "attachments": {},
   "cell_type": "markdown",
   "metadata": {},
   "source": [
    "## Exercici 4\n",
    "\n",
    "Implementa manualment una funció que calculi el coeficient de correlació. Informa-te'n sobre els seus usos i interpretació.\n",
    "\n"
   ]
  },
  {
   "attachments": {},
   "cell_type": "markdown",
   "metadata": {},
   "source": [
    "El coeficient de correlació de Pearson mesura la relació lineal entre dos variables. El valor del coeficient està entre -1 i 1. Un valor de 1 indica una relació perfectament positiva, un valor de -1 indica una relació perfectament negativa, i un valor de 0 indica cap relació. El coeficient de correlació es pot utilitzar per predir una variable a partir d'una altra o per determinar si hi ha una relació entre les variables."
   ]
  },
  {
   "cell_type": "code",
   "execution_count": 4,
   "metadata": {},
   "outputs": [
    {
     "name": "stdout",
     "output_type": "stream",
     "text": [
      "0.8468957380356056\n"
     ]
    }
   ],
   "source": [
    "def coeficient_correlacio(x, y):\n",
    "    x_mitjana = sum(x) / len(x)\n",
    "    y_mitjana = sum(y) / len(y)\n",
    "    x_dif = [i - x_mitjana for i in x]\n",
    "    y_dif = [i - y_mitjana for i in y]\n",
    "    x_y_dif_mult = [x_dif[i] * y_dif[i] for i in range(len(x_dif))]\n",
    "    x_dif_quadrat = [i ** 2 for i in x_dif]\n",
    "    y_dif_quadrat = [i ** 2 for i in y_dif]\n",
    "    numerador = sum(x_y_dif_mult)\n",
    "    denominador = (sum(x_dif_quadrat) * sum(y_dif_quadrat)) ** 0.5\n",
    "    return numerador / denominador\n",
    "\n",
    "temperatura = [21, 22, 23, 22, 25, 20, 18]\n",
    "humitat = [77, 70, 72, 68, 80, 65, 44]\n",
    "\n",
    "print(coeficient_correlacio(temperatura, humitat))"
   ]
  },
  {
   "cell_type": "code",
   "execution_count": 5,
   "metadata": {},
   "outputs": [
    {
     "name": "stdout",
     "output_type": "stream",
     "text": [
      "Comprovació coeficient correlació de Pearson amb funció de Scipy:  0.8468957380356056\n"
     ]
    }
   ],
   "source": [
    "from scipy.stats import pearsonr\n",
    "\n",
    "temperatura = [21, 22, 23, 22, 25, 20, 18]\n",
    "humitat = [77, 70, 72, 68, 80, 65, 44]\n",
    "\n",
    "correlació, p_valor = pearsonr(temperatura, humitat)\n",
    "print(\"Comprovació coeficient correlació de Pearson amb funció de Scipy: \", correlació)\n"
   ]
  },
  {
   "cell_type": "code",
   "execution_count": 6,
   "metadata": {},
   "outputs": [
    {
     "data": {
      "text/plain": [
       "array([[1.        , 0.84689574],\n",
       "       [0.84689574, 1.        ]])"
      ]
     },
     "execution_count": 6,
     "metadata": {},
     "output_type": "execute_result"
    }
   ],
   "source": [
    "correlacio = np.corrcoef(temperatura, humitat)\n",
    "correlacio"
   ]
  },
  {
   "attachments": {},
   "cell_type": "markdown",
   "metadata": {},
   "source": [
    "\n",
    "\n",
    "Un ús interessant podria ser el que plantejo al següent exemple, entre unes hipotètiques temperatures en graus Celsius i el percentatge d'humitat a l'ambient. Es pot apreciar una relació pròxima a la perfecció positiva, deixant com a dada significativa llavors, que sí existeix una correlació positiva entre temperatura i humitat.\n",
    "\n",
    "Ho comprovo amb dues funcions diferents, amb Scipy i Numpy."
   ]
  }
 ],
 "metadata": {
  "kernelspec": {
   "display_name": "Python 3",
   "language": "python",
   "name": "python3"
  },
  "language_info": {
   "codemirror_mode": {
    "name": "ipython",
    "version": 3
   },
   "file_extension": ".py",
   "mimetype": "text/x-python",
   "name": "python",
   "nbconvert_exporter": "python",
   "pygments_lexer": "ipython3",
   "version": "3.11.1"
  },
  "orig_nbformat": 4,
  "vscode": {
   "interpreter": {
    "hash": "aee8b7b246df8f9039afb4144a1f6fd8d2ca17a180786b69acc140d282b71a49"
   }
  }
 },
 "nbformat": 4,
 "nbformat_minor": 2
}
